{
 "cells": [
  {
   "cell_type": "markdown",
   "metadata": {},
   "source": [
    "<h1>Exploring and training some Machine models on the Mnist dataset</h1>"
   ]
  },
  {
   "cell_type": "code",
   "execution_count": 1,
   "metadata": {},
   "outputs": [],
   "source": [
    "# Importing necessary libraries\n",
    "import numpy as np\n",
    "import pandas as pd\n",
    "import matplotlib.pyplot as plt\n",
    "import seaborn as sns\n",
    "import time\n",
    "import joblib\n",
    "\n",
    "from sklearn.datasets import fetch_openml\n",
    "from sklearn.model_selection import train_test_split\n",
    "from sklearn.preprocessing import StandardScaler\n",
    "from sklearn.model_selection import cross_val_score\n",
    "from sklearn.svm import SVC\n",
    "from sklearn.linear_model import SGDClassifier\n",
    "from sklearn.linear_model import LogisticRegression\n",
    "from sklearn.tree import DecisionTreeClassifier\n",
    "from sklearn.ensemble import RandomForestClassifier, ExtraTreesClassifier\n",
    "from sklearn.model_selection import GridSearchCV\n",
    "from sklearn.metrics import accuracy_score\n",
    "from sklearn.ensemble import VotingClassifier\n",
    "from sklearn.metrics import confusion_matrix, ConfusionMatrixDisplay"
   ]
  },
  {
   "cell_type": "code",
   "execution_count": 2,
   "metadata": {},
   "outputs": [
    {
     "name": "stdout",
     "output_type": "stream",
     "text": [
      "**Author**: Yann LeCun, Corinna Cortes, Christopher J.C. Burges  \n",
      "**Source**: [MNIST Website](http://yann.lecun.com/exdb/mnist/) - Date unknown  \n",
      "**Please cite**:  \n",
      "\n",
      "The MNIST database of handwritten digits with 784 features, raw data available at: http://yann.lecun.com/exdb/mnist/. It can be split in a training set of the first 60,000 examples, and a test set of 10,000 examples  \n",
      "\n",
      "It is a subset of a larger set available from NIST. The digits have been size-normalized and centered in a fixed-size image. It is a good database for people who want to try learning techniques and pattern recognition methods on real-world data while spending minimal efforts on preprocessing and formatting. The original black and white (bilevel) images from NIST were size normalized to fit in a 20x20 pixel box while preserving their aspect ratio. The resulting images contain grey levels as a result of the anti-aliasing technique used by the normalization algorithm. the images were centered in a 28x28 image by computing the center of mass of the pixels, and translating the image so as to position this point at the center of the 28x28 field.  \n",
      "\n",
      "With some classification methods (particularly template-based methods, such as SVM and K-nearest neighbors), the error rate improves when the digits are centered by bounding box rather than center of mass. If you do this kind of pre-processing, you should report it in your publications. The MNIST database was constructed from NIST's NIST originally designated SD-3 as their training set and SD-1 as their test set. However, SD-3 is much cleaner and easier to recognize than SD-1. The reason for this can be found on the fact that SD-3 was collected among Census Bureau employees, while SD-1 was collected among high-school students. Drawing sensible conclusions from learning experiments requires that the result be independent of the choice of training set and test among the complete set of samples. Therefore it was necessary to build a new database by mixing NIST's datasets.  \n",
      "\n",
      "The MNIST training set is composed of 30,000 patterns from SD-3 and 30,000 patterns from SD-1. Our test set was composed of 5,000 patterns from SD-3 and 5,000 patterns from SD-1. The 60,000 pattern training set contained examples from approximately 250 writers. We made sure that the sets of writers of the training set and test set were disjoint. SD-1 contains 58,527 digit images written by 500 different writers. In contrast to SD-3, where blocks of data from each writer appeared in sequence, the data in SD-1 is scrambled. Writer identities for SD-1 is available and we used this information to unscramble the writers. We then split SD-1 in two: characters written by the first 250 writers went into our new training set. The remaining 250 writers were placed in our test set. Thus we had two sets with nearly 30,000 examples each. The new training set was completed with enough examples from SD-3, starting at pattern # 0, to make a full set of 60,000 training patterns. Similarly, the new test set was completed with SD-3 examples starting at pattern # 35,000 to make a full set with 60,000 test patterns. Only a subset of 10,000 test images (5,000 from SD-1 and 5,000 from SD-3) is available on this site. The full 60,000 sample training set is available.\n",
      "\n",
      "Downloaded from openml.org.\n"
     ]
    }
   ],
   "source": [
    "#Loading dataset and printing the description\n",
    "mnist = fetch_openml('mnist_784', version=1, cache=True, as_frame=False)\n",
    "print(mnist.DESCR)"
   ]
  },
  {
   "cell_type": "code",
   "execution_count": 3,
   "metadata": {},
   "outputs": [
    {
     "name": "stdout",
     "output_type": "stream",
     "text": [
      "['DESCR', 'categories', 'data', 'details', 'feature_names', 'frame', 'target', 'target_names', 'url']\n"
     ]
    }
   ],
   "source": [
    "print(dir(mnist))"
   ]
  },
  {
   "cell_type": "code",
   "execution_count": 4,
   "metadata": {},
   "outputs": [],
   "source": [
    "#Splitting the data to X and y\n",
    "X = mnist['data']\n",
    "y = mnist['target'].astype(np.uint8)"
   ]
  },
  {
   "cell_type": "code",
   "execution_count": 5,
   "metadata": {},
   "outputs": [],
   "source": [
    "#Splitting the data into training, validation and test.\n",
    "X_train_val, X_test, y_train_val, y_test = train_test_split(X, y, test_size=10000, random_state=42)\n",
    "X_train, X_val, y_train, y_val = train_test_split(X_train_val, y_train_val, test_size=10000, random_state=42)"
   ]
  },
  {
   "cell_type": "code",
   "execution_count": 6,
   "metadata": {},
   "outputs": [],
   "source": [
    "# Creating a medium large dataset from the trainingset to be able to train the model on some more data. \n",
    "#Only splitting into train.\n",
    "\n",
    "X_train_medium, _, y_train_medium, _ = train_test_split(X_train, y_train, train_size=10000, stratify=y_train, random_state=42)"
   ]
  },
  {
   "cell_type": "code",
   "execution_count": 7,
   "metadata": {},
   "outputs": [],
   "source": [
    "# Creating a smaller dataset from the trainingset to quickly test certain models, \n",
    "# such as SVM, which can be slow on the full dataset.\n",
    "#Only splitting into train.\n",
    "\n",
    "X_train_small, _, y_train_small, _ = train_test_split(X_train, y_train, train_size=3000, stratify=y_train, random_state=42)\n"
   ]
  },
  {
   "cell_type": "markdown",
   "metadata": {},
   "source": [
    "<h2>EDA</h2>"
   ]
  },
  {
   "cell_type": "code",
   "execution_count": 8,
   "metadata": {},
   "outputs": [
    {
     "data": {
      "text/plain": [
       "(70000, 784)"
      ]
     },
     "execution_count": 8,
     "metadata": {},
     "output_type": "execute_result"
    }
   ],
   "source": [
    "X.shape"
   ]
  },
  {
   "cell_type": "code",
   "execution_count": 9,
   "metadata": {},
   "outputs": [
    {
     "data": {
      "text/plain": [
       "(70000,)"
      ]
     },
     "execution_count": 9,
     "metadata": {},
     "output_type": "execute_result"
    }
   ],
   "source": [
    "y.shape"
   ]
  },
  {
   "cell_type": "code",
   "execution_count": 10,
   "metadata": {},
   "outputs": [],
   "source": [
    "df_mnist = pd.DataFrame(X_train)"
   ]
  },
  {
   "cell_type": "code",
   "execution_count": 11,
   "metadata": {},
   "outputs": [],
   "source": [
    "df_mnist['target'] = y_train"
   ]
  },
  {
   "cell_type": "code",
   "execution_count": 12,
   "metadata": {},
   "outputs": [
    {
     "data": {
      "text/plain": [
       "0         50000\n",
       "1         50000\n",
       "2         50000\n",
       "3         50000\n",
       "4         50000\n",
       "          ...  \n",
       "780       50000\n",
       "781       50000\n",
       "782       50000\n",
       "783       50000\n",
       "target    50000\n",
       "Length: 785, dtype: int64"
      ]
     },
     "execution_count": 12,
     "metadata": {},
     "output_type": "execute_result"
    }
   ],
   "source": [
    "#Counting the number of non-null values in each column\n",
    "df_mnist.count()"
   ]
  },
  {
   "cell_type": "code",
   "execution_count": 13,
   "metadata": {},
   "outputs": [
    {
     "name": "stdout",
     "output_type": "stream",
     "text": [
      "<class 'pandas.core.frame.DataFrame'>\n",
      "RangeIndex: 50000 entries, 0 to 49999\n",
      "Columns: 785 entries, 0 to target\n",
      "dtypes: int64(784), uint8(1)\n",
      "memory usage: 299.1 MB\n"
     ]
    }
   ],
   "source": [
    "df_mnist.info()"
   ]
  },
  {
   "cell_type": "code",
   "execution_count": 14,
   "metadata": {},
   "outputs": [
    {
     "data": {
      "text/plain": [
       "0         0\n",
       "1         0\n",
       "2         0\n",
       "3         0\n",
       "4         0\n",
       "         ..\n",
       "780       0\n",
       "781       0\n",
       "782       0\n",
       "783       0\n",
       "target    0\n",
       "Length: 785, dtype: int64"
      ]
     },
     "execution_count": 14,
     "metadata": {},
     "output_type": "execute_result"
    }
   ],
   "source": [
    "#Sum of all nan-values\n",
    "df_mnist.isna().sum()"
   ]
  },
  {
   "cell_type": "code",
   "execution_count": 15,
   "metadata": {},
   "outputs": [
    {
     "data": {
      "text/html": [
       "<div>\n",
       "<style scoped>\n",
       "    .dataframe tbody tr th:only-of-type {\n",
       "        vertical-align: middle;\n",
       "    }\n",
       "\n",
       "    .dataframe tbody tr th {\n",
       "        vertical-align: top;\n",
       "    }\n",
       "\n",
       "    .dataframe thead th {\n",
       "        text-align: right;\n",
       "    }\n",
       "</style>\n",
       "<table border=\"1\" class=\"dataframe\">\n",
       "  <thead>\n",
       "    <tr style=\"text-align: right;\">\n",
       "      <th></th>\n",
       "      <th>0</th>\n",
       "      <th>1</th>\n",
       "      <th>2</th>\n",
       "      <th>3</th>\n",
       "      <th>4</th>\n",
       "      <th>5</th>\n",
       "      <th>6</th>\n",
       "      <th>7</th>\n",
       "      <th>8</th>\n",
       "      <th>9</th>\n",
       "      <th>...</th>\n",
       "      <th>775</th>\n",
       "      <th>776</th>\n",
       "      <th>777</th>\n",
       "      <th>778</th>\n",
       "      <th>779</th>\n",
       "      <th>780</th>\n",
       "      <th>781</th>\n",
       "      <th>782</th>\n",
       "      <th>783</th>\n",
       "      <th>target</th>\n",
       "    </tr>\n",
       "  </thead>\n",
       "  <tbody>\n",
       "    <tr>\n",
       "      <th>count</th>\n",
       "      <td>50000.0</td>\n",
       "      <td>50000.0</td>\n",
       "      <td>50000.0</td>\n",
       "      <td>50000.0</td>\n",
       "      <td>50000.0</td>\n",
       "      <td>50000.0</td>\n",
       "      <td>50000.0</td>\n",
       "      <td>50000.0</td>\n",
       "      <td>50000.0</td>\n",
       "      <td>50000.0</td>\n",
       "      <td>...</td>\n",
       "      <td>50000.000000</td>\n",
       "      <td>50000.00000</td>\n",
       "      <td>50000.000000</td>\n",
       "      <td>50000.00000</td>\n",
       "      <td>50000.000000</td>\n",
       "      <td>50000.0</td>\n",
       "      <td>50000.0</td>\n",
       "      <td>50000.0</td>\n",
       "      <td>50000.0</td>\n",
       "      <td>50000.000000</td>\n",
       "    </tr>\n",
       "    <tr>\n",
       "      <th>mean</th>\n",
       "      <td>0.0</td>\n",
       "      <td>0.0</td>\n",
       "      <td>0.0</td>\n",
       "      <td>0.0</td>\n",
       "      <td>0.0</td>\n",
       "      <td>0.0</td>\n",
       "      <td>0.0</td>\n",
       "      <td>0.0</td>\n",
       "      <td>0.0</td>\n",
       "      <td>0.0</td>\n",
       "      <td>...</td>\n",
       "      <td>0.096580</td>\n",
       "      <td>0.04014</td>\n",
       "      <td>0.017260</td>\n",
       "      <td>0.01306</td>\n",
       "      <td>0.001240</td>\n",
       "      <td>0.0</td>\n",
       "      <td>0.0</td>\n",
       "      <td>0.0</td>\n",
       "      <td>0.0</td>\n",
       "      <td>4.454660</td>\n",
       "    </tr>\n",
       "    <tr>\n",
       "      <th>std</th>\n",
       "      <td>0.0</td>\n",
       "      <td>0.0</td>\n",
       "      <td>0.0</td>\n",
       "      <td>0.0</td>\n",
       "      <td>0.0</td>\n",
       "      <td>0.0</td>\n",
       "      <td>0.0</td>\n",
       "      <td>0.0</td>\n",
       "      <td>0.0</td>\n",
       "      <td>0.0</td>\n",
       "      <td>...</td>\n",
       "      <td>4.118897</td>\n",
       "      <td>2.58817</td>\n",
       "      <td>1.685615</td>\n",
       "      <td>1.44559</td>\n",
       "      <td>0.277272</td>\n",
       "      <td>0.0</td>\n",
       "      <td>0.0</td>\n",
       "      <td>0.0</td>\n",
       "      <td>0.0</td>\n",
       "      <td>2.886547</td>\n",
       "    </tr>\n",
       "    <tr>\n",
       "      <th>min</th>\n",
       "      <td>0.0</td>\n",
       "      <td>0.0</td>\n",
       "      <td>0.0</td>\n",
       "      <td>0.0</td>\n",
       "      <td>0.0</td>\n",
       "      <td>0.0</td>\n",
       "      <td>0.0</td>\n",
       "      <td>0.0</td>\n",
       "      <td>0.0</td>\n",
       "      <td>0.0</td>\n",
       "      <td>...</td>\n",
       "      <td>0.000000</td>\n",
       "      <td>0.00000</td>\n",
       "      <td>0.000000</td>\n",
       "      <td>0.00000</td>\n",
       "      <td>0.000000</td>\n",
       "      <td>0.0</td>\n",
       "      <td>0.0</td>\n",
       "      <td>0.0</td>\n",
       "      <td>0.0</td>\n",
       "      <td>0.000000</td>\n",
       "    </tr>\n",
       "    <tr>\n",
       "      <th>25%</th>\n",
       "      <td>0.0</td>\n",
       "      <td>0.0</td>\n",
       "      <td>0.0</td>\n",
       "      <td>0.0</td>\n",
       "      <td>0.0</td>\n",
       "      <td>0.0</td>\n",
       "      <td>0.0</td>\n",
       "      <td>0.0</td>\n",
       "      <td>0.0</td>\n",
       "      <td>0.0</td>\n",
       "      <td>...</td>\n",
       "      <td>0.000000</td>\n",
       "      <td>0.00000</td>\n",
       "      <td>0.000000</td>\n",
       "      <td>0.00000</td>\n",
       "      <td>0.000000</td>\n",
       "      <td>0.0</td>\n",
       "      <td>0.0</td>\n",
       "      <td>0.0</td>\n",
       "      <td>0.0</td>\n",
       "      <td>2.000000</td>\n",
       "    </tr>\n",
       "    <tr>\n",
       "      <th>50%</th>\n",
       "      <td>0.0</td>\n",
       "      <td>0.0</td>\n",
       "      <td>0.0</td>\n",
       "      <td>0.0</td>\n",
       "      <td>0.0</td>\n",
       "      <td>0.0</td>\n",
       "      <td>0.0</td>\n",
       "      <td>0.0</td>\n",
       "      <td>0.0</td>\n",
       "      <td>0.0</td>\n",
       "      <td>...</td>\n",
       "      <td>0.000000</td>\n",
       "      <td>0.00000</td>\n",
       "      <td>0.000000</td>\n",
       "      <td>0.00000</td>\n",
       "      <td>0.000000</td>\n",
       "      <td>0.0</td>\n",
       "      <td>0.0</td>\n",
       "      <td>0.0</td>\n",
       "      <td>0.0</td>\n",
       "      <td>4.000000</td>\n",
       "    </tr>\n",
       "    <tr>\n",
       "      <th>75%</th>\n",
       "      <td>0.0</td>\n",
       "      <td>0.0</td>\n",
       "      <td>0.0</td>\n",
       "      <td>0.0</td>\n",
       "      <td>0.0</td>\n",
       "      <td>0.0</td>\n",
       "      <td>0.0</td>\n",
       "      <td>0.0</td>\n",
       "      <td>0.0</td>\n",
       "      <td>0.0</td>\n",
       "      <td>...</td>\n",
       "      <td>0.000000</td>\n",
       "      <td>0.00000</td>\n",
       "      <td>0.000000</td>\n",
       "      <td>0.00000</td>\n",
       "      <td>0.000000</td>\n",
       "      <td>0.0</td>\n",
       "      <td>0.0</td>\n",
       "      <td>0.0</td>\n",
       "      <td>0.0</td>\n",
       "      <td>7.000000</td>\n",
       "    </tr>\n",
       "    <tr>\n",
       "      <th>max</th>\n",
       "      <td>0.0</td>\n",
       "      <td>0.0</td>\n",
       "      <td>0.0</td>\n",
       "      <td>0.0</td>\n",
       "      <td>0.0</td>\n",
       "      <td>0.0</td>\n",
       "      <td>0.0</td>\n",
       "      <td>0.0</td>\n",
       "      <td>0.0</td>\n",
       "      <td>0.0</td>\n",
       "      <td>...</td>\n",
       "      <td>253.000000</td>\n",
       "      <td>253.00000</td>\n",
       "      <td>253.000000</td>\n",
       "      <td>244.00000</td>\n",
       "      <td>62.000000</td>\n",
       "      <td>0.0</td>\n",
       "      <td>0.0</td>\n",
       "      <td>0.0</td>\n",
       "      <td>0.0</td>\n",
       "      <td>9.000000</td>\n",
       "    </tr>\n",
       "  </tbody>\n",
       "</table>\n",
       "<p>8 rows × 785 columns</p>\n",
       "</div>"
      ],
      "text/plain": [
       "             0        1        2        3        4        5        6        7  \\\n",
       "count  50000.0  50000.0  50000.0  50000.0  50000.0  50000.0  50000.0  50000.0   \n",
       "mean       0.0      0.0      0.0      0.0      0.0      0.0      0.0      0.0   \n",
       "std        0.0      0.0      0.0      0.0      0.0      0.0      0.0      0.0   \n",
       "min        0.0      0.0      0.0      0.0      0.0      0.0      0.0      0.0   \n",
       "25%        0.0      0.0      0.0      0.0      0.0      0.0      0.0      0.0   \n",
       "50%        0.0      0.0      0.0      0.0      0.0      0.0      0.0      0.0   \n",
       "75%        0.0      0.0      0.0      0.0      0.0      0.0      0.0      0.0   \n",
       "max        0.0      0.0      0.0      0.0      0.0      0.0      0.0      0.0   \n",
       "\n",
       "             8        9  ...           775          776           777  \\\n",
       "count  50000.0  50000.0  ...  50000.000000  50000.00000  50000.000000   \n",
       "mean       0.0      0.0  ...      0.096580      0.04014      0.017260   \n",
       "std        0.0      0.0  ...      4.118897      2.58817      1.685615   \n",
       "min        0.0      0.0  ...      0.000000      0.00000      0.000000   \n",
       "25%        0.0      0.0  ...      0.000000      0.00000      0.000000   \n",
       "50%        0.0      0.0  ...      0.000000      0.00000      0.000000   \n",
       "75%        0.0      0.0  ...      0.000000      0.00000      0.000000   \n",
       "max        0.0      0.0  ...    253.000000    253.00000    253.000000   \n",
       "\n",
       "               778           779      780      781      782      783  \\\n",
       "count  50000.00000  50000.000000  50000.0  50000.0  50000.0  50000.0   \n",
       "mean       0.01306      0.001240      0.0      0.0      0.0      0.0   \n",
       "std        1.44559      0.277272      0.0      0.0      0.0      0.0   \n",
       "min        0.00000      0.000000      0.0      0.0      0.0      0.0   \n",
       "25%        0.00000      0.000000      0.0      0.0      0.0      0.0   \n",
       "50%        0.00000      0.000000      0.0      0.0      0.0      0.0   \n",
       "75%        0.00000      0.000000      0.0      0.0      0.0      0.0   \n",
       "max      244.00000     62.000000      0.0      0.0      0.0      0.0   \n",
       "\n",
       "             target  \n",
       "count  50000.000000  \n",
       "mean       4.454660  \n",
       "std        2.886547  \n",
       "min        0.000000  \n",
       "25%        2.000000  \n",
       "50%        4.000000  \n",
       "75%        7.000000  \n",
       "max        9.000000  \n",
       "\n",
       "[8 rows x 785 columns]"
      ]
     },
     "execution_count": 15,
     "metadata": {},
     "output_type": "execute_result"
    }
   ],
   "source": [
    "df_mnist.describe()"
   ]
  },
  {
   "cell_type": "code",
   "execution_count": 16,
   "metadata": {},
   "outputs": [
    {
     "data": {
      "text/plain": [
       "target\n",
       "1    5567\n",
       "7    5168\n",
       "3    5079\n",
       "2    5016\n",
       "6    4970\n",
       "9    4966\n",
       "4    4952\n",
       "0    4923\n",
       "8    4868\n",
       "5    4491\n",
       "Name: count, dtype: int64"
      ]
     },
     "execution_count": 16,
     "metadata": {},
     "output_type": "execute_result"
    }
   ],
   "source": [
    "#Counting how many time each digit is represented.\n",
    "df_mnist['target'].value_counts()"
   ]
  },
  {
   "cell_type": "code",
   "execution_count": 17,
   "metadata": {},
   "outputs": [
    {
     "data": {
      "image/png": "[encoded data removed]",
      "text/plain": [
       "<Figure size 1000x500 with 1 Axes>"
      ]
     },
     "metadata": {},
     "output_type": "display_data"
    }
   ],
   "source": [
    "# Calculating each digit\n",
    "digit_counts = df_mnist['target'].value_counts().sort_index()\n",
    "\n",
    "# Creating barplot\n",
    "plt.figure(figsize=(10, 5))\n",
    "sns.barplot(x=digit_counts.index, y=digit_counts.values, hue=digit_counts.index, palette=\"viridis\", legend=False)\n",
    "\n",
    "plt.title(\"Distribution of Digits in MNIST Dataset\")\n",
    "plt.xlabel(\"Digit\")\n",
    "plt.ylabel(\"Count\")\n",
    "plt.xticks(rotation=0)\n",
    "\n",
    "plt.show()\n"
   ]
  },
  {
   "cell_type": "code",
   "execution_count": 18,
   "metadata": {},
   "outputs": [],
   "source": [
    "# Checking the distribution in the original split.\n",
    "distr_y_train = (np.bincount(y_train) / len(y_train))\n",
    "\n",
    "# Checking the distribution in the smaller split.\n",
    "distr_y_train_small = (np.bincount(y_train_small)) / len(y_train_small)"
   ]
  },
  {
   "cell_type": "code",
   "execution_count": 19,
   "metadata": {},
   "outputs": [
    {
     "name": "stdout",
     "output_type": "stream",
     "text": [
      "[0.09846 0.11134 0.10032 0.10158 0.09904 0.08982 0.0994  0.10336 0.09736\n",
      " 0.09932]\n",
      "[0.09833333 0.11133333 0.10033333 0.10166667 0.099      0.09\n",
      " 0.09933333 0.10333333 0.09733333 0.09933333]\n"
     ]
    }
   ],
   "source": [
    "print(distr_y_train)\n",
    "print(distr_y_train_small)"
   ]
  },
  {
   "cell_type": "code",
   "execution_count": 20,
   "metadata": {},
   "outputs": [
    {
     "data": {
      "image/png": "[encoded data removed]",
      "text/plain": [
       "<Figure size 1200x500 with 2 Axes>"
      ]
     },
     "metadata": {},
     "output_type": "display_data"
    }
   ],
   "source": [
    "colors = sns.color_palette(\"viridis\", 10)\n",
    "\n",
    "# Creating two subplots\n",
    "fig, axes = plt.subplots(1, 2, figsize=(12, 5), sharey=True)\n",
    "\n",
    "# Plotting y_train-distribution\n",
    "axes[0].bar(range(10), distr_y_train, color=colors)\n",
    "axes[0].set_title(\"Distribution in y_train\")\n",
    "axes[0].set_xlabel(\"Digit\")\n",
    "axes[0].set_ylabel(\"Proportion\")\n",
    "axes[0].set_xticks(range(10))\n",
    "\n",
    "# Plotting y_train_small-distribution\n",
    "axes[1].bar(range(10), distr_y_train_small, color=colors)\n",
    "axes[1].set_title(\"Distribution in y_train_small\")\n",
    "axes[1].set_xlabel(\"Digit\")\n",
    "axes[1].set_xticks(range(10))\n",
    "\n",
    "plt.tight_layout()\n",
    "plt.show()"
   ]
  },
  {
   "cell_type": "code",
   "execution_count": 21,
   "metadata": {},
   "outputs": [
    {
     "data": {
      "image/png": "[encoded data removed]",
      "text/plain": [
       "<Figure size 640x480 with 5 Axes>"
      ]
     },
     "metadata": {},
     "output_type": "display_data"
    }
   ],
   "source": [
    "for i in range(5):\n",
    "    plt.subplot(1, 5, i+1)\n",
    "    plt.imshow(mnist.data[i].reshape(28, 28), cmap='gray')\n",
    "    plt.axis('off')\n",
    "plt.show()"
   ]
  },
  {
   "cell_type": "markdown",
   "metadata": {},
   "source": [
    "<h2>Preprocessing data </h2h>"
   ]
  },
  {
   "cell_type": "code",
   "execution_count": 8,
   "metadata": {},
   "outputs": [],
   "source": [
    "#In order for some models to perform we first need to scale the data.\n",
    "#Using StandardScaler to do that.\n",
    "scaler = StandardScaler()\n",
    "\n",
    "# Standardising the different datasets\n",
    "X_small_scaled = scaler.fit_transform(X_train_small)\n",
    "X_medium_scaled = scaler.fit_transform(X_train_medium)\n",
    "X_large_scaled = scaler.fit_transform(X_train)\n",
    "\n",
    "# Transforming the validation and testda\n",
    "X_val_large_scaled = scaler.transform(X_val)\n",
    "X_train_val_scaled = scaler.transform(X_train_val)\n",
    "X_test_large_scaled = scaler.transform(X_test)\n"
   ]
  },
  {
   "cell_type": "markdown",
   "metadata": {},
   "source": [
    "<h2>Modeling</h2>"
   ]
  },
  {
   "cell_type": "code",
   "execution_count": 22,
   "metadata": {},
   "outputs": [],
   "source": [
    "#Trying some models on the smaller dataset to see how they perform.\n",
    "#If they perform well we can have them train on the larger set.\n",
    "#Models i decided to test is:RidgeClassifier, SGDClassifier, SVM, DecisionTree, RandomForest\n"
   ]
  },
  {
   "cell_type": "markdown",
   "metadata": {},
   "source": [
    "<h3>Training models on the small dataset</h3>"
   ]
  },
  {
   "cell_type": "markdown",
   "metadata": {},
   "source": [
    "<h3>First run</h3>"
   ]
  },
  {
   "cell_type": "code",
   "execution_count": 23,
   "metadata": {},
   "outputs": [
    {
     "name": "stdout",
     "output_type": "stream",
     "text": [
      "Model: SVC\n",
      "Mean CV Score: 0.9087\n",
      "Time taken: 4.16 seconds\n",
      "\n",
      "Model: LogisticRegression\n",
      "Mean CV Score: 0.8757\n",
      "Time taken: 0.93 seconds\n",
      "\n",
      "Model: SGDClassifier\n",
      "Mean CV Score: 0.8737\n",
      "Time taken: 3.80 seconds\n",
      "\n",
      "Model: DecisionTree\n",
      "Mean CV Score: 0.7300\n",
      "Time taken: 1.23 seconds\n",
      "\n",
      "Model: RandomForest\n",
      "Mean CV Score: 0.9267\n",
      "Time taken: 3.81 seconds\n",
      "\n"
     ]
    }
   ],
   "source": [
    "#Preparing models\n",
    "models = [\n",
    "    ('SVC', SVC()),\n",
    "    ('LogisticRegression', LogisticRegression()),\n",
    "    ('SGDClassifier', SGDClassifier()),\n",
    "    ('DecisionTree', DecisionTreeClassifier()),\n",
    "    ('RandomForest', RandomForestClassifier()),\n",
    "]\n",
    "\n",
    "# Preparing results\n",
    "results = []\n",
    "\n",
    "# Creating a loop for each model\n",
    "for name, model in models:\n",
    "    # Measuring startime\n",
    "    start_time = time.time()\n",
    "    \n",
    "    # Cross validation\n",
    "    cv_scores = cross_val_score(model, X_small_scaled, y_train_small, cv=5)\n",
    "    \n",
    "    # Measuring endtime and calculating the difference\n",
    "    end_time = time.time()\n",
    "    duration = end_time - start_time\n",
    "    \n",
    "    # Saving results\n",
    "    results.append((name, cv_scores.mean(), duration))\n",
    "\n",
    "# Printing results\n",
    "for result in results:\n",
    "    print(f\"Model: {result[0]}\")\n",
    "    print(f\"Mean CV Score: {result[1]:.4f}\")\n",
    "    print(f\"Time taken: {result[2]:.2f} seconds\\n\")"
   ]
  },
  {
   "cell_type": "code",
   "execution_count": 24,
   "metadata": {},
   "outputs": [
    {
     "name": "stdout",
     "output_type": "stream",
     "text": [
      "                Model  Mean CV Score  Time Taken\n",
      "4        RandomForest       0.926667    3.806844\n",
      "0                 SVC       0.908667    4.156310\n",
      "1  LogisticRegression       0.875667    0.933862\n",
      "2       SGDClassifier       0.873667    3.799834\n",
      "3        DecisionTree       0.730000    1.230171\n"
     ]
    }
   ],
   "source": [
    "small_results = pd.DataFrame(results, columns=['Model', 'Mean CV Score', 'Time Taken']).sort_values('Mean CV Score', ascending=False)\n",
    "print(small_results)"
   ]
  },
  {
   "cell_type": "markdown",
   "metadata": {},
   "source": [
    "<h3>Second run</h3>"
   ]
  },
  {
   "cell_type": "code",
   "execution_count": 38,
   "metadata": {},
   "outputs": [
    {
     "name": "stderr",
     "output_type": "stream",
     "text": [
      "c:\\Users\\nexuz\\anaconda3\\Lib\\site-packages\\sklearn\\linear_model\\_sag.py:349: ConvergenceWarning: The max_iter was reached which means the coef_ did not converge\n",
      "  warnings.warn(\n",
      "c:\\Users\\nexuz\\anaconda3\\Lib\\site-packages\\sklearn\\linear_model\\_sag.py:349: ConvergenceWarning: The max_iter was reached which means the coef_ did not converge\n",
      "  warnings.warn(\n",
      "c:\\Users\\nexuz\\anaconda3\\Lib\\site-packages\\sklearn\\linear_model\\_sag.py:349: ConvergenceWarning: The max_iter was reached which means the coef_ did not converge\n",
      "  warnings.warn(\n",
      "c:\\Users\\nexuz\\anaconda3\\Lib\\site-packages\\sklearn\\linear_model\\_sag.py:349: ConvergenceWarning: The max_iter was reached which means the coef_ did not converge\n",
      "  warnings.warn(\n",
      "c:\\Users\\nexuz\\anaconda3\\Lib\\site-packages\\sklearn\\linear_model\\_sag.py:349: ConvergenceWarning: The max_iter was reached which means the coef_ did not converge\n",
      "  warnings.warn(\n",
      "c:\\Users\\nexuz\\anaconda3\\Lib\\site-packages\\sklearn\\linear_model\\_sag.py:349: ConvergenceWarning: The max_iter was reached which means the coef_ did not converge\n",
      "  warnings.warn(\n",
      "c:\\Users\\nexuz\\anaconda3\\Lib\\site-packages\\sklearn\\linear_model\\_sag.py:349: ConvergenceWarning: The max_iter was reached which means the coef_ did not converge\n",
      "  warnings.warn(\n",
      "c:\\Users\\nexuz\\anaconda3\\Lib\\site-packages\\sklearn\\linear_model\\_sag.py:349: ConvergenceWarning: The max_iter was reached which means the coef_ did not converge\n",
      "  warnings.warn(\n",
      "c:\\Users\\nexuz\\anaconda3\\Lib\\site-packages\\sklearn\\linear_model\\_sag.py:349: ConvergenceWarning: The max_iter was reached which means the coef_ did not converge\n",
      "  warnings.warn(\n",
      "c:\\Users\\nexuz\\anaconda3\\Lib\\site-packages\\sklearn\\linear_model\\_sag.py:349: ConvergenceWarning: The max_iter was reached which means the coef_ did not converge\n",
      "  warnings.warn(\n",
      "c:\\Users\\nexuz\\anaconda3\\Lib\\site-packages\\sklearn\\linear_model\\_sag.py:349: ConvergenceWarning: The max_iter was reached which means the coef_ did not converge\n",
      "  warnings.warn(\n",
      "c:\\Users\\nexuz\\anaconda3\\Lib\\site-packages\\sklearn\\linear_model\\_sag.py:349: ConvergenceWarning: The max_iter was reached which means the coef_ did not converge\n",
      "  warnings.warn(\n",
      "c:\\Users\\nexuz\\anaconda3\\Lib\\site-packages\\sklearn\\linear_model\\_sag.py:349: ConvergenceWarning: The max_iter was reached which means the coef_ did not converge\n",
      "  warnings.warn(\n",
      "c:\\Users\\nexuz\\anaconda3\\Lib\\site-packages\\sklearn\\linear_model\\_sag.py:349: ConvergenceWarning: The max_iter was reached which means the coef_ did not converge\n",
      "  warnings.warn(\n",
      "c:\\Users\\nexuz\\anaconda3\\Lib\\site-packages\\sklearn\\linear_model\\_sag.py:349: ConvergenceWarning: The max_iter was reached which means the coef_ did not converge\n",
      "  warnings.warn(\n",
      "c:\\Users\\nexuz\\anaconda3\\Lib\\site-packages\\sklearn\\linear_model\\_sag.py:349: ConvergenceWarning: The max_iter was reached which means the coef_ did not converge\n",
      "  warnings.warn(\n",
      "c:\\Users\\nexuz\\anaconda3\\Lib\\site-packages\\sklearn\\linear_model\\_stochastic_gradient.py:744: ConvergenceWarning: Maximum number of iteration reached before convergence. Consider increasing max_iter to improve the fit.\n",
      "  warnings.warn(\n",
      "c:\\Users\\nexuz\\anaconda3\\Lib\\site-packages\\sklearn\\linear_model\\_stochastic_gradient.py:744: ConvergenceWarning: Maximum number of iteration reached before convergence. Consider increasing max_iter to improve the fit.\n",
      "  warnings.warn(\n",
      "c:\\Users\\nexuz\\anaconda3\\Lib\\site-packages\\sklearn\\linear_model\\_stochastic_gradient.py:744: ConvergenceWarning: Maximum number of iteration reached before convergence. Consider increasing max_iter to improve the fit.\n",
      "  warnings.warn(\n",
      "c:\\Users\\nexuz\\anaconda3\\Lib\\site-packages\\sklearn\\linear_model\\_stochastic_gradient.py:744: ConvergenceWarning: Maximum number of iteration reached before convergence. Consider increasing max_iter to improve the fit.\n",
      "  warnings.warn(\n",
      "c:\\Users\\nexuz\\anaconda3\\Lib\\site-packages\\sklearn\\linear_model\\_stochastic_gradient.py:744: ConvergenceWarning: Maximum number of iteration reached before convergence. Consider increasing max_iter to improve the fit.\n",
      "  warnings.warn(\n",
      "c:\\Users\\nexuz\\anaconda3\\Lib\\site-packages\\sklearn\\linear_model\\_stochastic_gradient.py:744: ConvergenceWarning: Maximum number of iteration reached before convergence. Consider increasing max_iter to improve the fit.\n",
      "  warnings.warn(\n",
      "c:\\Users\\nexuz\\anaconda3\\Lib\\site-packages\\sklearn\\model_selection\\_validation.py:540: FitFailedWarning: \n",
      "60 fits failed out of a total of 120.\n",
      "The score on these train-test partitions for these parameters will be set to nan.\n",
      "If these failures are not expected, you can try to debug them by setting error_score='raise'.\n",
      "\n",
      "Below are more details about the failures:\n",
      "--------------------------------------------------------------------------------\n",
      "60 fits failed with the following error:\n",
      "Traceback (most recent call last):\n",
      "  File \"c:\\Users\\nexuz\\anaconda3\\Lib\\site-packages\\sklearn\\model_selection\\_validation.py\", line 888, in _fit_and_score\n",
      "    estimator.fit(X_train, y_train, **fit_params)\n",
      "  File \"c:\\Users\\nexuz\\anaconda3\\Lib\\site-packages\\sklearn\\base.py\", line 1473, in wrapper\n",
      "    return fit_method(estimator, *args, **kwargs)\n",
      "           ^^^^^^^^^^^^^^^^^^^^^^^^^^^^^^^^^^^^^^\n",
      "  File \"c:\\Users\\nexuz\\anaconda3\\Lib\\site-packages\\sklearn\\linear_model\\_stochastic_gradient.py\", line 936, in fit\n",
      "    self._more_validate_params()\n",
      "  File \"c:\\Users\\nexuz\\anaconda3\\Lib\\site-packages\\sklearn\\linear_model\\_stochastic_gradient.py\", line 153, in _more_validate_params\n",
      "    raise ValueError(\"eta0 must be > 0\")\n",
      "ValueError: eta0 must be > 0\n",
      "\n",
      "  warnings.warn(some_fits_failed_message, FitFailedWarning)\n",
      "c:\\Users\\nexuz\\anaconda3\\Lib\\site-packages\\sklearn\\model_selection\\_search.py:1102: UserWarning: One or more of the test scores are non-finite: [   nan    nan    nan    nan 0.9011 0.9008 0.9005 0.8998    nan    nan\n",
      "    nan    nan 0.8991 0.8999 0.8993 0.899     nan    nan    nan    nan\n",
      " 0.8914 0.889  0.8918 0.8899]\n",
      "  warnings.warn(\n",
      "c:\\Users\\nexuz\\anaconda3\\Lib\\site-packages\\sklearn\\linear_model\\_stochastic_gradient.py:744: ConvergenceWarning: Maximum number of iteration reached before convergence. Consider increasing max_iter to improve the fit.\n",
      "  warnings.warn(\n"
     ]
    },
    {
     "name": "stdout",
     "output_type": "stream",
     "text": [
      "Model: SVC\n",
      "Best Parameters: {'C': 10, 'gamma': 'auto', 'kernel': 'rbf'}\n",
      "Best CV Score: 0.9482\n",
      "Time taken: 345.42 seconds\n",
      "\n",
      "Model: LogisticRegression\n",
      "Best Parameters: {'C': 1, 'penalty': 'l2', 'solver': 'saga'}\n",
      "Best CV Score: 0.9095\n",
      "Time taken: 1016.30 seconds\n",
      "\n",
      "Model: SGDClassifier\n",
      "Best Parameters: {'alpha': 0.0001, 'learning_rate': 'optimal', 'max_iter': 1000, 'penalty': 'l2'}\n",
      "Best CV Score: 0.9011\n",
      "Time taken: 1130.23 seconds\n",
      "\n",
      "Model: DecisionTree\n",
      "Best Parameters: {'criterion': 'entropy', 'max_depth': 10, 'min_samples_leaf': 1, 'min_samples_split': 2}\n",
      "Best CV Score: 0.8064\n",
      "Time taken: 115.68 seconds\n",
      "\n",
      "Model: RandomForest\n",
      "Best Parameters: {'max_depth': 20, 'min_samples_leaf': 1, 'min_samples_split': 2, 'n_estimators': 200}\n",
      "Best CV Score: 0.9496\n",
      "Time taken: 561.94 seconds\n",
      "\n"
     ]
    }
   ],
   "source": [
    "# #Preparing models and hyperparams.\n",
    "models = [\n",
    "    ('SVC', SVC(), {\n",
    "        'C': [0.1, 1, 10],\n",
    "        'kernel': ['linear', 'rbf'],\n",
    "        'gamma': ['scale', 'auto']\n",
    "    }),\n",
    "    ('LogisticRegression', LogisticRegression(), {\n",
    "        'C': [0.1, 1, 10],\n",
    "        'penalty': ['l2'],\n",
    "        'solver': ['liblinear', 'saga']\n",
    "    }),\n",
    "    ('SGDClassifier', SGDClassifier(), {\n",
    "        'alpha': [0.0001, 0.001, 0.01],\n",
    "        'penalty': ['l2', 'elasticnet'],\n",
    "        'learning_rate': ['constant', 'optimal'],\n",
    "        'max_iter': [1000, 5000]\n",
    "    }),\n",
    "    ('DecisionTree', DecisionTreeClassifier(), {\n",
    "        'max_depth': [5, 10, 15],\n",
    "        'min_samples_split': [2, 5],\n",
    "        'min_samples_leaf': [1, 2],\n",
    "        'criterion': ['gini', 'entropy']\n",
    "    }),\n",
    "    ('RandomForest', RandomForestClassifier(), {\n",
    "        'n_estimators': [50, 100, 200],\n",
    "        'max_depth': [10, 20, 30],\n",
    "        'min_samples_split': [2, 5],\n",
    "        'min_samples_leaf': [1, 2]\n",
    "    })\n",
    "]\n",
    "\n",
    "# Preparing results\n",
    "results = []\n",
    "\n",
    "# Running each model and their GridSearchh\n",
    "for name, model, param_grid in models:\n",
    "    start_time = time.time()\n",
    "    grid_search = GridSearchCV(model, param_grid, cv=5, scoring='accuracy')\n",
    "    grid_search.fit(X_medium_scaled, y_train_medium)\n",
    "    elapsed_time = time.time() - start_time\n",
    "    results.append((name, grid_search.best_params_, grid_search.best_score_, elapsed_time))\n",
    "\n",
    "# Printing results\n",
    "for result in results:\n",
    "    print(f\"Model: {result[0]}\")\n",
    "    print(f\"Best Parameters: {result[1]}\")\n",
    "    print(f\"Best CV Score: {result[2]:.4f}\")\n",
    "    print(f\"Time taken: {result[3]:.2f} seconds\\n\")\n"
   ]
  },
  {
   "cell_type": "markdown",
   "metadata": {},
   "source": [
    "Due to the warning messages and the uncertainty if the models might have performed better i will rerun each model again but this time one model at a time so i can adjust some settings if needed."
   ]
  },
  {
   "cell_type": "markdown",
   "metadata": {},
   "source": [
    "<h3>Running each model one by one (3rd run)</h3>"
   ]
  },
  {
   "cell_type": "code",
   "execution_count": null,
   "metadata": {},
   "outputs": [
    {
     "name": "stdout",
     "output_type": "stream",
     "text": [
      "0.9481999999999999\n"
     ]
    }
   ],
   "source": [
    "#SVC\n",
    "svc_clf = SVC()\n",
    "svc_param_grid = {\n",
    "        'C': [0.1, 1, 10],\n",
    "        'kernel': ['linear', 'rbf'],\n",
    "        'gamma': ['scale', 'auto']\n",
    "        }\n",
    "svc_gridsearch = GridSearchCV(svc_clf, svc_param_grid, scoring='accuracy', cv=5)\n",
    "svc_gridsearch.fit(X_medium_scaled, y_train_medium)\n",
    "print(svc_gridsearch.best_score_)"
   ]
  },
  {
   "cell_type": "code",
   "execution_count": 27,
   "metadata": {},
   "outputs": [
    {
     "name": "stdout",
     "output_type": "stream",
     "text": [
      "{'C': 10, 'gamma': 'auto', 'kernel': 'rbf'}\n",
      "SVC(C=10, gamma='auto')\n"
     ]
    }
   ],
   "source": [
    "print(svc_gridsearch.best_params_)\n",
    "print(svc_gridsearch.best_estimator_)"
   ]
  },
  {
   "cell_type": "code",
   "execution_count": 33,
   "metadata": {},
   "outputs": [],
   "source": [
    "#Saving the model under a different name\n",
    "#The model was saved before the computer was turned of. So instead of running the code above again\n",
    "#to hade this code work i instead load the model below in the code.\n",
    "#svm_clf = svc_gridsearch"
   ]
  },
  {
   "cell_type": "code",
   "execution_count": 23,
   "metadata": {},
   "outputs": [
    {
     "name": "stderr",
     "output_type": "stream",
     "text": [
      "c:\\Users\\nexuz\\anaconda3\\Lib\\site-packages\\sklearn\\linear_model\\_sag.py:349: ConvergenceWarning: The max_iter was reached which means the coef_ did not converge\n",
      "  warnings.warn(\n",
      "c:\\Users\\nexuz\\anaconda3\\Lib\\site-packages\\sklearn\\linear_model\\_sag.py:349: ConvergenceWarning: The max_iter was reached which means the coef_ did not converge\n",
      "  warnings.warn(\n",
      "c:\\Users\\nexuz\\anaconda3\\Lib\\site-packages\\sklearn\\linear_model\\_sag.py:349: ConvergenceWarning: The max_iter was reached which means the coef_ did not converge\n",
      "  warnings.warn(\n",
      "c:\\Users\\nexuz\\anaconda3\\Lib\\site-packages\\sklearn\\linear_model\\_sag.py:349: ConvergenceWarning: The max_iter was reached which means the coef_ did not converge\n",
      "  warnings.warn(\n",
      "c:\\Users\\nexuz\\anaconda3\\Lib\\site-packages\\sklearn\\linear_model\\_sag.py:349: ConvergenceWarning: The max_iter was reached which means the coef_ did not converge\n",
      "  warnings.warn(\n",
      "c:\\Users\\nexuz\\anaconda3\\Lib\\site-packages\\sklearn\\linear_model\\_sag.py:349: ConvergenceWarning: The max_iter was reached which means the coef_ did not converge\n",
      "  warnings.warn(\n",
      "c:\\Users\\nexuz\\anaconda3\\Lib\\site-packages\\sklearn\\linear_model\\_sag.py:349: ConvergenceWarning: The max_iter was reached which means the coef_ did not converge\n",
      "  warnings.warn(\n",
      "c:\\Users\\nexuz\\anaconda3\\Lib\\site-packages\\sklearn\\linear_model\\_sag.py:349: ConvergenceWarning: The max_iter was reached which means the coef_ did not converge\n",
      "  warnings.warn(\n",
      "c:\\Users\\nexuz\\anaconda3\\Lib\\site-packages\\sklearn\\linear_model\\_sag.py:349: ConvergenceWarning: The max_iter was reached which means the coef_ did not converge\n",
      "  warnings.warn(\n",
      "c:\\Users\\nexuz\\anaconda3\\Lib\\site-packages\\sklearn\\linear_model\\_sag.py:349: ConvergenceWarning: The max_iter was reached which means the coef_ did not converge\n",
      "  warnings.warn(\n",
      "c:\\Users\\nexuz\\anaconda3\\Lib\\site-packages\\sklearn\\linear_model\\_sag.py:349: ConvergenceWarning: The max_iter was reached which means the coef_ did not converge\n",
      "  warnings.warn(\n",
      "c:\\Users\\nexuz\\anaconda3\\Lib\\site-packages\\sklearn\\linear_model\\_sag.py:349: ConvergenceWarning: The max_iter was reached which means the coef_ did not converge\n",
      "  warnings.warn(\n",
      "c:\\Users\\nexuz\\anaconda3\\Lib\\site-packages\\sklearn\\linear_model\\_sag.py:349: ConvergenceWarning: The max_iter was reached which means the coef_ did not converge\n",
      "  warnings.warn(\n",
      "c:\\Users\\nexuz\\anaconda3\\Lib\\site-packages\\sklearn\\linear_model\\_sag.py:349: ConvergenceWarning: The max_iter was reached which means the coef_ did not converge\n",
      "  warnings.warn(\n",
      "c:\\Users\\nexuz\\anaconda3\\Lib\\site-packages\\sklearn\\linear_model\\_sag.py:349: ConvergenceWarning: The max_iter was reached which means the coef_ did not converge\n",
      "  warnings.warn(\n"
     ]
    },
    {
     "name": "stdout",
     "output_type": "stream",
     "text": [
      "0.9064\n",
      "{'C': 0.1, 'penalty': 'l2', 'solver': 'saga'}\n",
      "LogisticRegression(C=0.1, max_iter=500, solver='saga')\n"
     ]
    },
    {
     "name": "stderr",
     "output_type": "stream",
     "text": [
      "c:\\Users\\nexuz\\anaconda3\\Lib\\site-packages\\sklearn\\linear_model\\_sag.py:349: ConvergenceWarning: The max_iter was reached which means the coef_ did not converge\n",
      "  warnings.warn(\n"
     ]
    }
   ],
   "source": [
    "#LogisticRegression\n",
    "log_clf = LogisticRegression(max_iter=500)\n",
    "log_param_grid = {\n",
    "        'C': [0.1, 1, 10],\n",
    "        'penalty': ['l2'],\n",
    "        'solver': ['liblinear', 'saga', 'lbfgs']\n",
    "        }\n",
    "log_gridsearch = GridSearchCV(log_clf, log_param_grid, scoring='accuracy', cv=5)\n",
    "log_gridsearch.fit(X_medium_scaled, y_train_medium)\n",
    "print(log_gridsearch.best_score_)\n",
    "print(log_gridsearch.best_params_)\n",
    "print(log_gridsearch.best_estimator_)"
   ]
  },
  {
   "cell_type": "code",
   "execution_count": 26,
   "metadata": {},
   "outputs": [],
   "source": [
    "logreg_clf = log_gridsearch"
   ]
  },
  {
   "cell_type": "code",
   "execution_count": 24,
   "metadata": {},
   "outputs": [
    {
     "name": "stderr",
     "output_type": "stream",
     "text": [
      "c:\\Users\\nexuz\\anaconda3\\Lib\\site-packages\\sklearn\\linear_model\\_stochastic_gradient.py:744: ConvergenceWarning: Maximum number of iteration reached before convergence. Consider increasing max_iter to improve the fit.\n",
      "  warnings.warn(\n",
      "c:\\Users\\nexuz\\anaconda3\\Lib\\site-packages\\sklearn\\linear_model\\_stochastic_gradient.py:744: ConvergenceWarning: Maximum number of iteration reached before convergence. Consider increasing max_iter to improve the fit.\n",
      "  warnings.warn(\n",
      "c:\\Users\\nexuz\\anaconda3\\Lib\\site-packages\\sklearn\\linear_model\\_stochastic_gradient.py:744: ConvergenceWarning: Maximum number of iteration reached before convergence. Consider increasing max_iter to improve the fit.\n",
      "  warnings.warn(\n",
      "c:\\Users\\nexuz\\anaconda3\\Lib\\site-packages\\sklearn\\linear_model\\_stochastic_gradient.py:744: ConvergenceWarning: Maximum number of iteration reached before convergence. Consider increasing max_iter to improve the fit.\n",
      "  warnings.warn(\n",
      "c:\\Users\\nexuz\\anaconda3\\Lib\\site-packages\\sklearn\\model_selection\\_validation.py:540: FitFailedWarning: \n",
      "60 fits failed out of a total of 120.\n",
      "The score on these train-test partitions for these parameters will be set to nan.\n",
      "If these failures are not expected, you can try to debug them by setting error_score='raise'.\n",
      "\n",
      "Below are more details about the failures:\n",
      "--------------------------------------------------------------------------------\n",
      "60 fits failed with the following error:\n",
      "Traceback (most recent call last):\n",
      "  File \"c:\\Users\\nexuz\\anaconda3\\Lib\\site-packages\\sklearn\\model_selection\\_validation.py\", line 888, in _fit_and_score\n",
      "    estimator.fit(X_train, y_train, **fit_params)\n",
      "  File \"c:\\Users\\nexuz\\anaconda3\\Lib\\site-packages\\sklearn\\base.py\", line 1473, in wrapper\n",
      "    return fit_method(estimator, *args, **kwargs)\n",
      "           ^^^^^^^^^^^^^^^^^^^^^^^^^^^^^^^^^^^^^^\n",
      "  File \"c:\\Users\\nexuz\\anaconda3\\Lib\\site-packages\\sklearn\\linear_model\\_stochastic_gradient.py\", line 936, in fit\n",
      "    self._more_validate_params()\n",
      "  File \"c:\\Users\\nexuz\\anaconda3\\Lib\\site-packages\\sklearn\\linear_model\\_stochastic_gradient.py\", line 153, in _more_validate_params\n",
      "    raise ValueError(\"eta0 must be > 0\")\n",
      "ValueError: eta0 must be > 0\n",
      "\n",
      "  warnings.warn(some_fits_failed_message, FitFailedWarning)\n",
      "c:\\Users\\nexuz\\anaconda3\\Lib\\site-packages\\sklearn\\model_selection\\_search.py:1102: UserWarning: One or more of the test scores are non-finite: [   nan    nan    nan    nan 0.9015 0.8999 0.9012 0.8993    nan    nan\n",
      "    nan    nan 0.8983 0.8992 0.8977 0.8989    nan    nan    nan    nan\n",
      " 0.8916 0.8891 0.8926 0.8893]\n",
      "  warnings.warn(\n"
     ]
    },
    {
     "name": "stdout",
     "output_type": "stream",
     "text": [
      "0.9015000000000001\n",
      "{'alpha': 0.0001, 'learning_rate': 'optimal', 'max_iter': 1000, 'penalty': 'l2'}\n",
      "SGDClassifier()\n"
     ]
    },
    {
     "name": "stderr",
     "output_type": "stream",
     "text": [
      "c:\\Users\\nexuz\\anaconda3\\Lib\\site-packages\\sklearn\\linear_model\\_stochastic_gradient.py:744: ConvergenceWarning: Maximum number of iteration reached before convergence. Consider increasing max_iter to improve the fit.\n",
      "  warnings.warn(\n"
     ]
    }
   ],
   "source": [
    "#SGDClassifier\n",
    "sgd_clf = SGDClassifier()\n",
    "sgd_param_grid = {\n",
    "        'alpha': [0.0001, 0.001, 0.01],\n",
    "        'penalty': ['l2', 'elasticnet'],\n",
    "        'learning_rate': ['constant', 'optimal'],\n",
    "        'max_iter': [1000, 5000]\n",
    "    }\n",
    "sgd_gridsearch = GridSearchCV(sgd_clf, sgd_param_grid, scoring='accuracy', cv=5)\n",
    "sgd_gridsearch.fit(X_medium_scaled, y_train_medium)\n",
    "print(sgd_gridsearch.best_score_)\n",
    "print(sgd_gridsearch.best_params_)\n",
    "print(sgd_gridsearch.best_estimator_)"
   ]
  },
  {
   "cell_type": "code",
   "execution_count": 29,
   "metadata": {},
   "outputs": [
    {
     "name": "stdout",
     "output_type": "stream",
     "text": [
      "0.8069\n",
      "{'criterion': 'entropy', 'max_depth': 10, 'min_samples_leaf': 1, 'min_samples_split': 2}\n",
      "DecisionTreeClassifier(criterion='entropy', max_depth=10)\n"
     ]
    }
   ],
   "source": [
    "#DecisionTree\n",
    "dtree_clf = DecisionTreeClassifier()\n",
    "dtree_param_grid = {\n",
    "        'max_depth': [5, 10, 15],\n",
    "        'min_samples_split': [2, 5],\n",
    "        'min_samples_leaf': [1, 2],\n",
    "        'criterion': ['gini', 'entropy']\n",
    "    }\n",
    "dtree_gridsearch = GridSearchCV(dtree_clf, dtree_param_grid, scoring='accuracy', cv=5)\n",
    "dtree_gridsearch.fit(X_medium_scaled, y_train_medium)\n",
    "print(dtree_gridsearch.best_score_)\n",
    "print(dtree_gridsearch.best_params_)\n",
    "print(dtree_gridsearch.best_estimator_)"
   ]
  },
  {
   "cell_type": "code",
   "execution_count": 30,
   "metadata": {},
   "outputs": [
    {
     "name": "stdout",
     "output_type": "stream",
     "text": [
      "0.9486000000000001\n",
      "{'max_depth': 20, 'min_samples_leaf': 1, 'min_samples_split': 2, 'n_estimators': 200}\n",
      "RandomForestClassifier(max_depth=20, n_estimators=200)\n"
     ]
    }
   ],
   "source": [
    "#RandomForest\n",
    "rf_clf = RandomForestClassifier()\n",
    "rf_param_grid =  {\n",
    "        'n_estimators': [50, 100, 200],\n",
    "        'max_depth': [10, 20, 30],\n",
    "        'min_samples_split': [2, 5],\n",
    "        'min_samples_leaf': [1, 2]\n",
    "    }\n",
    "rf_gridsearch = GridSearchCV(rf_clf, rf_param_grid, scoring='accuracy', cv=5)\n",
    "rf_gridsearch.fit(X_medium_scaled, y_train_medium)\n",
    "print(rf_gridsearch.best_score_)\n",
    "print(rf_gridsearch.best_params_)\n",
    "print(rf_gridsearch.best_estimator_)\n"
   ]
  },
  {
   "cell_type": "code",
   "execution_count": 37,
   "metadata": {},
   "outputs": [
    {
     "data": {
      "text/plain": [
       "{'max_depth': 20,\n",
       " 'min_samples_leaf': 1,\n",
       " 'min_samples_split': 2,\n",
       " 'n_estimators': 200}"
      ]
     },
     "execution_count": 37,
     "metadata": {},
     "output_type": "execute_result"
    }
   ],
   "source": [
    "rf_model.best_params_"
   ]
  },
  {
   "cell_type": "markdown",
   "metadata": {},
   "source": [
    "<h3>Adding anoter model, ExtraTree to see if it can perform well on the data</h3>"
   ]
  },
  {
   "cell_type": "code",
   "execution_count": null,
   "metadata": {},
   "outputs": [
    {
     "name": "stderr",
     "output_type": "stream",
     "text": [
      "c:\\Users\\nexuz\\anaconda3\\Lib\\site-packages\\numpy\\ma\\core.py:2820: RuntimeWarning: invalid value encountered in cast\n",
      "  _data = np.array(data, dtype=dtype, copy=copy,\n"
     ]
    },
    {
     "name": "stdout",
     "output_type": "stream",
     "text": [
      "0.9561999999999999\n",
      "{'bootstrap': False, 'criterion': 'gini', 'max_depth': 20, 'max_features': 'sqrt', 'min_samples_leaf': 1, 'min_samples_split': 2, 'n_estimators': 500}\n",
      "ExtraTreesClassifier(max_depth=20, n_estimators=500)\n"
     ]
    }
   ],
   "source": [
    "et_clf = ExtraTreesClassifier()\n",
    "et_param_grid = {\n",
    "    'n_estimators': [100, 200, 500],\n",
    "    'max_depth': [None, 10, 20],\n",
    "    'min_samples_split': [2, 5, 10],\n",
    "    'min_samples_leaf': [1, 2, 5],\n",
    "    'criterion': ['gini', 'entropy'],\n",
    "    'max_features': ['sqrt', 'log2'],\n",
    "    'bootstrap': [False, True]\n",
    "}\n",
    "etree_clf = GridSearchCV(et_clf, et_param_grid, scoring='accuracy', cv=5)\n",
    "\n",
    "etree_clf.fit(X_medium_scaled, y_train_medium)\n",
    "\n",
    "best_et_model = ExtraTreesClassifier(**etree_clf.best_params_, random_state=42)\n",
    "best_et_model.fit(X_large_scaled, y_train)\n",
    "\n",
    "\n",
    "print(etree_clf.best_score_)\n",
    "print(etree_clf.best_params_)\n",
    "print(etree_clf.best_estimator_)\n"
   ]
  },
  {
   "cell_type": "code",
   "execution_count": null,
   "metadata": {},
   "outputs": [
    {
     "data": {
      "text/plain": [
       "['my_svc_20250311']"
      ]
     },
     "execution_count": 35,
     "metadata": {},
     "output_type": "execute_result"
    }
   ],
   "source": [
    "#Testing saving a model\n",
    "joblib.dump(svm_clf, 'models/temp/my_svc_20250311')"
   ]
  },
  {
   "cell_type": "code",
   "execution_count": null,
   "metadata": {},
   "outputs": [
    {
     "data": {
      "text/plain": [
       "['my_rf_model20250311']"
      ]
     },
     "execution_count": 36,
     "metadata": {},
     "output_type": "execute_result"
    }
   ],
   "source": [
    "#Also saving the RF_model\n",
    "rf_model = rf_gridsearch\n",
    "joblib.dump(rf_gridsearch, 'models/temp/my_rf_model20250311')"
   ]
  },
  {
   "cell_type": "code",
   "execution_count": null,
   "metadata": {},
   "outputs": [
    {
     "data": {
      "text/plain": [
       "['extra_tree_20250311']"
      ]
     },
     "execution_count": 39,
     "metadata": {},
     "output_type": "execute_result"
    }
   ],
   "source": [
    "#Saving model ExtraTree\n",
    "joblib.dump(etree_clf, 'models/temp/extra_tree_20250311')"
   ]
  },
  {
   "cell_type": "code",
   "execution_count": null,
   "metadata": {},
   "outputs": [
    {
     "data": {
      "text/plain": [
       "['log_reg_model_20250312']"
      ]
     },
     "execution_count": 25,
     "metadata": {},
     "output_type": "execute_result"
    }
   ],
   "source": [
    "#Saving LogReg_model\n",
    "joblib.dump(log_gridsearch, 'models/temp/log_reg_model_20250312')"
   ]
  },
  {
   "cell_type": "code",
   "execution_count": null,
   "metadata": {},
   "outputs": [
    {
     "data": {
      "text/plain": [
       "['sgld_cclf_20250312']"
      ]
     },
     "execution_count": 45,
     "metadata": {},
     "output_type": "execute_result"
    }
   ],
   "source": [
    "#Saving SGDClf\n",
    "joblib.dump(sgd_gridsearch, 'models/temp/sgld_cclf_20250312')"
   ]
  },
  {
   "cell_type": "code",
   "execution_count": null,
   "metadata": {},
   "outputs": [],
   "source": [
    "#Loading RfMoodel to get scoore.\n",
    "rf_clf = joblib.load('models/temp/my_rf_model20250311')"
   ]
  },
  {
   "cell_type": "code",
   "execution_count": null,
   "metadata": {},
   "outputs": [],
   "source": [
    "#Loading ExtraTree to get scoore.\n",
    "et_clf = joblib.load('models/temp/extra_tree_20250311')"
   ]
  },
  {
   "cell_type": "code",
   "execution_count": null,
   "metadata": {},
   "outputs": [],
   "source": [
    "svm_clf = joblib.load('models/temp/my_svc_20250311')"
   ]
  },
  {
   "cell_type": "code",
   "execution_count": null,
   "metadata": {},
   "outputs": [],
   "source": [
    "#Loading LogisticReg model\n",
    "lr_clf = joblib.load('models/temp/log_reg_model_20250312')"
   ]
  },
  {
   "cell_type": "code",
   "execution_count": 41,
   "metadata": {},
   "outputs": [],
   "source": [
    "#Saving the new scores\n",
    "new_results = []\n",
    "new_results.append({\"Model\": \"SVM\", \"Best Accuracy\": svm_clf.best_score_})\n",
    "new_results.append({\"Model\": \"Logistic Regression\", \"Best Accuracy\": log_gridsearch.best_score_})\n",
    "new_results.append({\"Model\": \"SGDClassifier\", \"Best Accuracy\": sgd_gridsearch.best_score_})\n",
    "new_results.append({\"Model\": \"DecisionTree\", \"Best Accuracy\": 0.8069})\n",
    "new_results.append({\"Model\": \"RandomForest\", \"Best Accuracy\": rf_clf.best_score_})\n",
    "new_results.append({\"Model\": \"ExtraTrees\", \"Best Accuracy\": et_clf.best_score_})"
   ]
  },
  {
   "cell_type": "code",
   "execution_count": 44,
   "metadata": {},
   "outputs": [
    {
     "name": "stdout",
     "output_type": "stream",
     "text": [
      "                 Model  Best Accuracy\n",
      "5           ExtraTrees         0.9562\n",
      "4         RandomForest         0.9486\n",
      "0                  SVM         0.9482\n",
      "1  Logistic Regression         0.9064\n",
      "2        SGDClassifier         0.9015\n",
      "3         DecisionTree         0.8069\n"
     ]
    }
   ],
   "source": [
    "results_eachmodel = pd.DataFrame(new_results)\n",
    "print(results_eachmodel.sort_values(by='Best Accuracy', ascending=False))"
   ]
  },
  {
   "cell_type": "markdown",
   "metadata": {},
   "source": [
    "<h2>Picking top 4 models. Training on whole X_train and validation on X_val</h2>"
   ]
  },
  {
   "cell_type": "code",
   "execution_count": null,
   "metadata": {},
   "outputs": [
    {
     "name": "stdout",
     "output_type": "stream",
     "text": [
      "0.9719\n"
     ]
    },
    {
     "data": {
      "text/plain": [
       "['my_best_et_model.joblib']"
      ]
     },
     "execution_count": 21,
     "metadata": {},
     "output_type": "execute_result"
    }
   ],
   "source": [
    "#Training model on X_train and validation on X_val\n",
    "best_et_model = ExtraTreesClassifier(**et_clf.best_params_, random_state=42)\n",
    "best_et_model.fit(X_large_scaled, y_train)\n",
    "best_et_y_predict = best_et_model.predict(X_val_large_scaled)\n",
    "best_et_accuracy_score = accuracy_score(y_val, best_et_y_predict)\n",
    "print(best_et_accuracy_score)\n",
    "joblib.dump(best_et_model, 'models/validation/my_best_et_model.joblib')"
   ]
  },
  {
   "cell_type": "code",
   "execution_count": null,
   "metadata": {},
   "outputs": [
    {
     "name": "stdout",
     "output_type": "stream",
     "text": [
      "0.97\n"
     ]
    },
    {
     "data": {
      "text/plain": [
       "['my_best_rf_model.joblib']"
      ]
     },
     "execution_count": 23,
     "metadata": {},
     "output_type": "execute_result"
    }
   ],
   "source": [
    "#Training RandomForest model on X_train and validation on X_val\n",
    "best_rf_model = RandomForestClassifier(**rf_clf.best_params_, random_state=42)\n",
    "best_rf_model.fit(X_large_scaled, y_train)\n",
    "best_rf_y_predict = best_rf_model.predict(X_val_large_scaled)\n",
    "best_rf_accuracy_score = accuracy_score(y_val, best_rf_y_predict)\n",
    "print(best_rf_accuracy_score)\n",
    "joblib.dump(best_rf_model, 'models/validation/my_best_rf_model.joblib')"
   ]
  },
  {
   "cell_type": "code",
   "execution_count": null,
   "metadata": {},
   "outputs": [
    {
     "name": "stdout",
     "output_type": "stream",
     "text": [
      "0.9715\n"
     ]
    },
    {
     "data": {
      "text/plain": [
       "['my_best_svc_model.joblib']"
      ]
     },
     "execution_count": 25,
     "metadata": {},
     "output_type": "execute_result"
    }
   ],
   "source": [
    "#Training the SVC model on the whole X_train and validation on X_val\n",
    "best_svc_model = SVC(**svm_clf.best_params_, random_state=42)\n",
    "best_svc_model.fit(X_large_scaled, y_train)\n",
    "best_svc_y_predict = best_svc_model.predict(X_val_large_scaled)\n",
    "best_svc_accuracy_score = accuracy_score(y_val, best_svc_y_predict)\n",
    "print(best_svc_accuracy_score)\n",
    "joblib.dump(best_svc_model, 'models/validation/my_best_svc_model.joblib')"
   ]
  },
  {
   "cell_type": "code",
   "execution_count": null,
   "metadata": {},
   "outputs": [
    {
     "name": "stdout",
     "output_type": "stream",
     "text": [
      "0.9169\n"
     ]
    },
    {
     "name": "stderr",
     "output_type": "stream",
     "text": [
      "c:\\Users\\nexuz\\anaconda3\\Lib\\site-packages\\sklearn\\linear_model\\_sag.py:349: ConvergenceWarning: The max_iter was reached which means the coef_ did not converge\n",
      "  warnings.warn(\n"
     ]
    },
    {
     "data": {
      "text/plain": [
       "['my_best_lr_model.joblib']"
      ]
     },
     "execution_count": 27,
     "metadata": {},
     "output_type": "execute_result"
    }
   ],
   "source": [
    "#Training the LogisticReg model on the whole X_train and validation on X_val\n",
    "best_lr_model = LogisticRegression(**lr_clf.best_params_, random_state=42)\n",
    "best_lr_model.fit(X_large_scaled, y_train)\n",
    "best_lr_y_predict = best_lr_model.predict(X_val_large_scaled)\n",
    "best_lr_accuracy_score = accuracy_score(y_val, best_lr_y_predict)\n",
    "print(best_lr_accuracy_score)\n",
    "joblib.dump(best_lr_model, 'models/validation/my_best_lr_model.joblib')"
   ]
  },
  {
   "cell_type": "markdown",
   "metadata": {},
   "source": [
    "<h2>Will a model with no tuned hyperparams perform as well or even better than a model that is tuned?</h2>\n",
    "To find out, let us just create some models and let us put them inside a voting classifier to see if the collective can perform even better."
   ]
  },
  {
   "cell_type": "code",
   "execution_count": 11,
   "metadata": {},
   "outputs": [
    {
     "data": {
      "text/plain": [
       "0.9692"
      ]
     },
     "execution_count": 11,
     "metadata": {},
     "output_type": "execute_result"
    }
   ],
   "source": [
    "random_forest_clf = RandomForestClassifier(random_state=42)\n",
    "random_forest_clf.fit(X_large_scaled, y_train)\n",
    "rf_sccore = random_forest_clf.score(X_val_large_scaled, y_val)\n",
    "rf_sccore"
   ]
  },
  {
   "cell_type": "code",
   "execution_count": 12,
   "metadata": {},
   "outputs": [
    {
     "data": {
      "text/plain": [
       "0.9715"
      ]
     },
     "execution_count": 12,
     "metadata": {},
     "output_type": "execute_result"
    }
   ],
   "source": [
    "extra_tree_clf = ExtraTreesClassifier(random_state=42)\n",
    "extra_tree_clf.fit(X_large_scaled, y_train)\n",
    "ex_tree_score = extra_tree_clf.score(X_val_large_scaled, y_val)\n",
    "ex_tree_score"
   ]
  },
  {
   "cell_type": "code",
   "execution_count": 13,
   "metadata": {},
   "outputs": [
    {
     "data": {
      "text/plain": [
       "0.9632"
      ]
     },
     "execution_count": 13,
     "metadata": {},
     "output_type": "execute_result"
    }
   ],
   "source": [
    "svm_clf = SVC(probability=True, random_state=42)\n",
    "svm_clf.fit(X_large_scaled, y_train)\n",
    "svm_clf_score = svm_clf.score(X_val_large_scaled, y_val)\n",
    "svm_clf_score"
   ]
  },
  {
   "cell_type": "markdown",
   "metadata": {},
   "source": [
    "<h3>Creating the hard and soft VotingClassifiers</h3>"
   ]
  },
  {
   "cell_type": "code",
   "execution_count": 14,
   "metadata": {},
   "outputs": [
    {
     "data": {
      "text/plain": [
       "0.9731"
      ]
     },
     "execution_count": 14,
     "metadata": {},
     "output_type": "execute_result"
    }
   ],
   "source": [
    "#Creating the models\n",
    "named_estimators = [\n",
    "    ('random_forest_clf', random_forest_clf),\n",
    "    ('extra_tree_clf', extra_tree_clf),\n",
    "    ('svm_clf', svm_clf)\n",
    "]\n",
    "voting_clf = VotingClassifier(named_estimators)\n",
    "voting_clf.fit(X_large_scaled, y_train)\n",
    "score_voting_clf = voting_clf.score(X_val_large_scaled, y_val)\n",
    "score_voting_clf"
   ]
  },
  {
   "cell_type": "code",
   "execution_count": 16,
   "metadata": {},
   "outputs": [
    {
     "data": {
      "text/plain": [
       "0.9754"
      ]
     },
     "execution_count": 16,
     "metadata": {},
     "output_type": "execute_result"
    }
   ],
   "source": [
    "#Creating another voting with soft voting\n",
    "voting_clf_soft = VotingClassifier(named_estimators, voting='soft')\n",
    "voting_clf_soft .fit(X_large_scaled, y_train)\n",
    "score_voting_clf_soft  = voting_clf_soft.score(X_val_large_scaled, y_val)\n",
    "score_voting_clf_soft"
   ]
  },
  {
   "cell_type": "code",
   "execution_count": 17,
   "metadata": {},
   "outputs": [
    {
     "data": {
      "text/plain": [
       "['models/validation/voting_soft.joblib']"
      ]
     },
     "execution_count": 17,
     "metadata": {},
     "output_type": "execute_result"
    }
   ],
   "source": [
    "#Saving models if i need them and also to check the sizes.\n",
    "\n",
    "#RF no grid\n",
    "joblib.dump(random_forest_clf, 'models/validation/rf_no_grid.joblib')\n",
    "#Extree no grid\n",
    "joblib.dump(extra_tree_clf, 'models/validation/ext_no_grid.joblib')\n",
    "#SVC no grid, prob\n",
    "joblib.dump(svm_clf, 'models/validation/svc_no_grid_prob_y.joblib')\n",
    "#Hard voting_clf\n",
    "joblib.dump(voting_clf, 'models/validation/voting_hard.joblib')\n",
    "#Soft voting_clf\n",
    "joblib.dump(voting_clf_soft, 'models/validation/voting_soft.joblib')"
   ]
  },
  {
   "cell_type": "markdown",
   "metadata": {},
   "source": [
    "<h2>Picking the VotingClassifier (voting='soft') as the winner. <br>Will predict on X_test to see its accuracy</h2>"
   ]
  },
  {
   "cell_type": "code",
   "execution_count": 11,
   "metadata": {},
   "outputs": [],
   "source": [
    "voting_clf_soft = joblib.load('models/validation/voting_soft.joblib')"
   ]
  },
  {
   "cell_type": "code",
   "execution_count": 12,
   "metadata": {},
   "outputs": [
    {
     "name": "stdout",
     "output_type": "stream",
     "text": [
      "1.0\n"
     ]
    }
   ],
   "source": [
    "#First i retrain the model with all availabe data on X_train and X_val\n",
    "voting_clf_soft.fit(X_train_val_scaled, y_train_val)\n",
    "score_voting_clf_soft_full  = voting_clf_soft.score(X_train_val_scaled, y_train_val)\n",
    "print(score_voting_clf_soft_full)"
   ]
  },
  {
   "cell_type": "markdown",
   "metadata": {},
   "source": [
    "Visualising results in a Confusion matrix Display after training"
   ]
  },
  {
   "cell_type": "code",
   "execution_count": 20,
   "metadata": {},
   "outputs": [],
   "source": [
    "y_train_val_pred = voting_clf_soft.predict(X_train_val_scaled)"
   ]
  },
  {
   "cell_type": "code",
   "execution_count": 22,
   "metadata": {},
   "outputs": [
    {
     "data": {
      "image/png": "[encoded data removed]",
      "text/plain": [
       "<Figure size 640x480 with 2 Axes>"
      ]
     },
     "metadata": {},
     "output_type": "display_data"
    }
   ],
   "source": [
    "cm_train_val = confusion_matrix(y_train_val, y_train_val_pred)\n",
    "cm_train_val_display = ConfusionMatrixDisplay(confusion_matrix=cm_train_val, display_labels=voting_clf_soft.classes_)\n",
    "cm_train_val_display.plot(cmap=plt.cm.viridis)\n",
    "plt.title(\"Confusion Matrix - Training/Validation Data\")\n",
    "plt.show()"
   ]
  },
  {
   "cell_type": "code",
   "execution_count": 13,
   "metadata": {},
   "outputs": [
    {
     "name": "stdout",
     "output_type": "stream",
     "text": [
      "0.9736\n"
     ]
    }
   ],
   "source": [
    "y_test_pred = voting_clf_soft.predict(X_test_large_scaled)\n",
    "final_score = accuracy_score(y_test, y_test_pred)\n",
    "print(final_score)"
   ]
  },
  {
   "cell_type": "code",
   "execution_count": 24,
   "metadata": {},
   "outputs": [
    {
     "data": {
      "image/png": "[encoded data removed]",
      "text/plain": [
       "<Figure size 640x480 with 2 Axes>"
      ]
     },
     "metadata": {},
     "output_type": "display_data"
    }
   ],
   "source": [
    "cm_test = confusion_matrix(y_test, y_test_pred)\n",
    "cm_test_display = ConfusionMatrixDisplay(confusion_matrix=cm_test, display_labels=voting_clf_soft.classes_)\n",
    "cm_test_display.plot(cmap=plt.cm.viridis)\n",
    "plt.title(\"Confusion Matrix - Test Data\")\n",
    "plt.show()\n"
   ]
  },
  {
   "cell_type": "code",
   "execution_count": 15,
   "metadata": {},
   "outputs": [
    {
     "data": {
      "text/plain": [
       "['models/final_model/voting_soft.joblib']"
      ]
     },
     "execution_count": 15,
     "metadata": {},
     "output_type": "execute_result"
    }
   ],
   "source": [
    "#Saving final model\n",
    "joblib.dump(voting_clf_soft, 'models/final_model/voting_soft.joblib')"
   ]
  },
  {
   "cell_type": "code",
   "execution_count": 11,
   "metadata": {},
   "outputs": [
    {
     "data": {
      "text/plain": [
       "['scaler/standard_scaler.joblib']"
      ]
     },
     "execution_count": 11,
     "metadata": {},
     "output_type": "execute_result"
    }
   ],
   "source": [
    "#Saving Scaler\n",
    "joblib.dump(scaler, 'scaler/standard_scaler.joblib')"
   ]
  }
 ],
 "metadata": {
  "kernelspec": {
   "display_name": "base",
   "language": "python",
   "name": "python3"
  },
  "language_info": {
   "codemirror_mode": {
    "name": "ipython",
    "version": 3
   },
   "file_extension": ".py",
   "mimetype": "text/x-python",
   "name": "python",
   "nbconvert_exporter": "python",
   "pygments_lexer": "ipython3",
   "version": "3.12.7"
  }
 },
 "nbformat": 4,
 "nbformat_minor": 2
}
